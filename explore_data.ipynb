{
 "cells": [
  {
   "cell_type": "code",
   "execution_count": 3,
   "metadata": {},
   "outputs": [],
   "source": [
    "from train import *"
   ]
  },
  {
   "cell_type": "code",
   "execution_count": 7,
   "metadata": {},
   "outputs": [
    {
     "name": "stdout",
     "output_type": "stream",
     "text": [
      "\n"
     ]
    }
   ],
   "source": [
    "embed_path = FLAGS.embed_path or pjoin(\"data\", \"squad\", \"glove.trimmed.{}.npz\".format(FLAGS.embedding_size))\n",
    "vocab_path = FLAGS.vocab_path or pjoin(FLAGS.data_dir, \"vocab.dat\")"
   ]
  },
  {
   "cell_type": "code",
   "execution_count": 8,
   "metadata": {},
   "outputs": [
    {
     "name": "stdout",
     "output_type": "stream",
     "text": [
      "data/squad/glove.trimmed.100.npz data/squad/vocab.dat\n"
     ]
    }
   ],
   "source": [
    "print embed_path, vocab_path"
   ]
  },
  {
   "cell_type": "code",
   "execution_count": 9,
   "metadata": {},
   "outputs": [],
   "source": [
    "vocab, rev_vocab = initialize_vocab(vocab_path)"
   ]
  },
  {
   "cell_type": "code",
   "execution_count": 18,
   "metadata": {},
   "outputs": [
    {
     "data": {
      "text/plain": [
       "['<pad>', '<sos>', '<unk>', 'the', ',', 'of', '.', 'and', 'in', 'to']"
      ]
     },
     "execution_count": 18,
     "output_type": "execute_result",
     "metadata": {}
    }
   ],
   "source": [
    "rev_vocab[:10]"
   ]
  },
  {
   "cell_type": "code",
   "execution_count": 13,
   "metadata": {},
   "outputs": [
    {
     "data": {
      "text/plain": [
       "(0, 1)"
      ]
     },
     "execution_count": 13,
     "output_type": "execute_result",
     "metadata": {}
    }
   ],
   "source": [
    "vocab['<pad>'], vocab['<sos>']"
   ]
  },
  {
   "cell_type": "code",
   "execution_count": 15,
   "metadata": {},
   "outputs": [
    {
     "name": "stdout",
     "output_type": "stream",
     "text": [
      "{'embedding_size': 100, 'data_dir': 'data/squad', 'output_size': 750, 'vocab_path': 'data/squad/vocab.dat', 'keep': 0, 'learning_rate': 0.01, 'train_dir': 'train', 'batch_size': 10, 'state_size': 200, 'epochs': 10, 'print_every': 1, 'log_dir': 'log', 'load_train_dir': '', 'max_gradient_norm': 10.0, 'optimizer': 'adam', 'dropout': 0.15, 'embed_path': ''}\n"
     ]
    }
   ],
   "source": [
    "print(FLAGS.__flags)"
   ]
  },
  {
   "cell_type": "code",
   "execution_count": 16,
   "metadata": {},
   "outputs": [
    {
     "name": "stdout",
     "output_type": "stream",
     "text": [
      "/tmp/cs224n-squad-train\n"
     ]
    }
   ],
   "source": [
    "load_train_dir = get_normalized_train_dir(FLAGS.load_train_dir or FLAGS.train_dir)\n",
    "print load_train_dir"
   ]
  },
  {
   "cell_type": "code",
   "execution_count": 19,
   "metadata": {},
   "outputs": [
    {
     "name": "stdout",
     "output_type": "stream",
     "text": [
      "/tmp/cs224n-squad-train\n"
     ]
    }
   ],
   "source": [
    "save_train_dir = get_normalized_train_dir(FLAGS.train_dir)\n",
    "print save_train_dir"
   ]
  },
  {
   "cell_type": "code",
   "execution_count": 25,
   "metadata": {},
   "outputs": [],
   "source": [
    "from qa_data import *\n",
    "import numpy as np"
   ]
  },
  {
   "cell_type": "code",
   "execution_count": 26,
   "metadata": {},
   "outputs": [
    {
     "name": "stdout",
     "output_type": "stream",
     "text": [
      "data/squad/glove.trimmed.100.npz\n"
     ]
    }
   ],
   "source": [
    "embed_path = FLAGS.embed_path or pjoin(\"data\", \"squad\", \"glove.trimmed.{}.npz\".format(FLAGS.embedding_size))\n",
    "print embed_path\n",
    "embed_matrix = np.load(embed_path)['glove']"
   ]
  },
  {
   "cell_type": "code",
   "execution_count": null,
   "metadata": {},
   "outputs": [],
   "source": [
    ""
   ]
  },
  {
   "cell_type": "code",
   "execution_count": 33,
   "metadata": {},
   "outputs": [
    {
     "data": {
      "text/plain": [
       "True"
      ]
     },
     "execution_count": 33,
     "output_type": "execute_result",
     "metadata": {}
    }
   ],
   "source": [
    "import tensorflow as tf\n",
    "\n",
    "t1 = tf.random_normal([1, 3])\n",
    "t2 = tf.random_normal([1, 3])\n",
    "\n",
    "tf.stack(values=[t1, t2], axis=1).get_shape().as_list() == [1, 2, 3]\n",
    "tf.concat(values=[t1, t2], axis=1).get_shape().as_list() == [1, 6]"
   ]
  },
  {
   "cell_type": "code",
   "execution_count": 47,
   "metadata": {},
   "outputs": [
    {
     "name": "stdout",
     "output_type": "stream",
     "text": [
      "[3, 10]\n",
      "[3, 2, 5]\n"
     ]
    }
   ],
   "source": [
    "t1 = tf.random_normal([3, 5])\n",
    "t2 = tf.random_normal([3, 5])\n",
    "t3 = [t1, t2]\n",
    "\n",
    "print tf.concat(t3, axis=1).get_shape().as_list()\n",
    "print tf.stack(t3, axis=1).get_shape().as_list()"
   ]
  },
  {
   "cell_type": "code",
   "execution_count": null,
   "metadata": {},
   "outputs": [],
   "source": [
    "a = tf.constant([[2,3],[4,5]])\n",
    "d = tf.expand_dims(a, 0)\n",
    "print d.get_shape().as_list()"
   ]
  },
  {
   "cell_type": "code",
   "execution_count": null,
   "metadata": {},
   "outputs": [],
   "source": [
    "t1 = tf.random_normal([3, 5])\n",
    "t2 = tf.random_normal([3, 1])\n",
    "print (t1*t2).get_shape().as_list()\n",
    "print tf.reduce_sum(t1 * t2, axis=0).get_shape().as_list()"
   ]
  },
  {
   "cell_type": "code",
   "execution_count": null,
   "metadata": {},
   "outputs": [],
   "source": [
    ""
   ]
  }
 ],
 "metadata": {
  "kernelspec": {
   "display_name": "Python 2",
   "language": "python",
   "name": "python2"
  },
  "language_info": {
   "codemirror_mode": {
    "name": "ipython",
    "version": 2.0
   },
   "file_extension": ".py",
   "mimetype": "text/x-python",
   "name": "python",
   "nbconvert_exporter": "python",
   "pygments_lexer": "ipython2",
   "version": "2.7.13"
  }
 },
 "nbformat": 4,
 "nbformat_minor": 2
}